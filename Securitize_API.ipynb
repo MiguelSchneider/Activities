{
  "nbformat": 4,
  "nbformat_minor": 0,
  "metadata": {
    "colab": {
      "name": "Securitize API.ipynb",
      "provenance": [],
      "collapsed_sections": [],
      "toc_visible": true,
      "authorship_tag": "ABX9TyPwTTvAZQadbc26yz+HDWZt",
      "include_colab_link": true
    },
    "kernelspec": {
      "name": "python3",
      "display_name": "Python 3"
    },
    "language_info": {
      "name": "python"
    }
  },
  "cells": [
    {
      "cell_type": "markdown",
      "metadata": {
        "id": "view-in-github",
        "colab_type": "text"
      },
      "source": [
        "<a href=\"https://colab.research.google.com/github/MiguelSchneider/Activities/blob/master/Securitize_API.ipynb\" target=\"_parent\"><img src=\"https://colab.research.google.com/assets/colab-badge.svg\" alt=\"Open In Colab\"/></a>"
      ]
    },
    {
      "cell_type": "markdown",
      "metadata": {
        "id": "8yuLDjwmVPnI"
      },
      "source": [
        "#Credentials to start interacting with Securitize APIs\n",
        "\n",
        "You should contact customersupport@securitize.io to get the credentials to be able to access your sandbox domain.\n",
        "\n",
        "They will answer with an email and with this information:\n",
        "\n",
        "#### Sandbox Domains API key for miguelschneider@gmail.com\n",
        "\n",
        "```\n",
        "{\n",
        "    \"id\": \"5eJlzsewTjaQ7xbJeUWcMO\",\n",
        "    \"isActive\": true,\n",
        "    \"identityId\": \"3395c5aa-f674-4ea4-9a41-c6b977f48ac9\",\n",
        "    \"keyId\": \"5eJlzsewTjaQ7xbJeUWcMO\",\n",
        "    \"keySecret\": \"4BOEi9AlxlB7uDfquIrQO2\"\n",
        "}\n",
        "```\n",
        "\n",
        "You are pretty much done! \n",
        "\n",
        "Let's start coding!\n"
      ]
    },
    {
      "cell_type": "code",
      "metadata": {
        "id": "eQ-EFUlGG7_t"
      },
      "source": [
        "# Import the required libraries\n",
        "import requests\n",
        "from requests_oauthlib import OAuth1\n",
        "from requests_oauthlib import OAuth2Session\n",
        "import json\n",
        "\n",
        "serviceUrl = 'https://public-api.sandbox.securitize.io/v1/domains/'  # Url pointing to the APIs\n",
        "#Basic OAuth information provided by Securitizq\n",
        "KeyId             = '5eJlzsewTjaQ7xbJeUWcMO'\n",
        "KeySecret         = '4BOEi9AlxlB7uDfquIrQO2'\n",
        "DomainID          = '6bc6a967-005f-4aa4-8ed8-65abb2e2fc24' #This is something Customer Success is not providing. We have to fix this.\n",
        "\n"
      ],
      "execution_count": 10,
      "outputs": []
    },
    {
      "cell_type": "markdown",
      "metadata": {
        "id": "pqxX8kbb41m3"
      },
      "source": [
        "Let's create a simple function which will help us perform **GET** actions, to perform a call like:\n",
        "\n",
        "\n",
        "```\n",
        "curl -X GET “https://public-api.sandbox.securitize.io/v1/domains/6bc6a967-005f-4aa4-8ed8-65abb2e2fc24/investors/list” \n",
        "-H “accept: application/json” -H “Authorization: apiKey 5eJlzsewTjaQ7xbJeUWcMO:4BOEi9AlxlB7uDfquIrQO2”\n",
        "```\n",
        "\n"
      ]
    },
    {
      "cell_type": "code",
      "metadata": {
        "id": "nUMFSSK44yZJ"
      },
      "source": [
        "def getInfo(_url, _KeyId, _KeySecret, _DomainID, _Command, _ExternalID=\"\"):\n",
        "  response = requests.get(\n",
        "      _url + _DomainID + _Command + _ExternalID,\n",
        "      headers={'Authorization': 'apiKey ' + _KeyId + ':'+ _KeySecret},\n",
        "  )\n",
        "  return response"
      ],
      "execution_count": 4,
      "outputs": []
    },
    {
      "cell_type": "markdown",
      "metadata": {
        "id": "py0VXZqI5s1s"
      },
      "source": [
        "#Calling the API\n",
        "\n"
      ]
    },
    {
      "cell_type": "code",
      "metadata": {
        "colab": {
          "base_uri": "https://localhost:8080/"
        },
        "id": "zhEVQG1B4h-n",
        "outputId": "1be4561f-1704-4790-9f5c-a92ff3c4d07c"
      },
      "source": [
        "\n",
        "response = getInfo(serviceUrl,KeyId,KeySecret,DomainID,'/investors/list')\n",
        "\n",
        "#Let's pretty print the response\n",
        "parsed = json.loads(response.content)\n",
        "print(json.dumps(parsed, indent=4, sort_keys=True) )\n",
        "\n"
      ],
      "execution_count": 13,
      "outputs": [
        {
          "output_type": "stream",
          "text": [
            "{\n",
            "    \"data\": [\n",
            "        {\n",
            "            \"accreditationStatus\": \"not-applicable\",\n",
            "            \"countryCode\": \"ES\",\n",
            "            \"createdAt\": \"2021-06-15T11:50:08.000Z\",\n",
            "            \"email\": \"miguelschneider@gmail.com\",\n",
            "            \"entityName\": null,\n",
            "            \"externalId\": \"1653786977\",\n",
            "            \"firstName\": \"\",\n",
            "            \"investorType\": \"individual\",\n",
            "            \"kycStatus\": \"none\",\n",
            "            \"labels\": null,\n",
            "            \"lastName\": \"\",\n",
            "            \"name\": \" \",\n",
            "            \"qualificationStatus\": \"not-verified\",\n",
            "            \"registrationSource\": \"securitizeID\",\n",
            "            \"stateCode\": null,\n",
            "            \"updatedAt\": \"2021-06-16T11:35:20.000Z\",\n",
            "            \"walletRegistrationStatus\": null\n",
            "        },\n",
            "        {\n",
            "            \"accreditationStatus\": \"not-applicable\",\n",
            "            \"countryCode\": \"ES\",\n",
            "            \"createdAt\": \"2021-06-15T11:53:49.000Z\",\n",
            "            \"email\": \"jorge.serna@gmail.com\",\n",
            "            \"entityName\": null,\n",
            "            \"externalId\": \"5765174554\",\n",
            "            \"firstName\": \"\",\n",
            "            \"investorType\": \"individual\",\n",
            "            \"kycStatus\": \"none\",\n",
            "            \"labels\": null,\n",
            "            \"lastName\": \"\",\n",
            "            \"name\": \" \",\n",
            "            \"qualificationStatus\": \"not-verified\",\n",
            "            \"registrationSource\": \"securitizeID\",\n",
            "            \"stateCode\": null,\n",
            "            \"updatedAt\": \"2021-06-15T11:53:49.000Z\",\n",
            "            \"walletRegistrationStatus\": null\n",
            "        }\n",
            "    ],\n",
            "    \"totalItems\": 2\n",
            "}\n"
          ],
          "name": "stdout"
        }
      ]
    },
    {
      "cell_type": "markdown",
      "metadata": {
        "id": "VU4P23SDW0Qe"
      },
      "source": [
        "\n",
        "#Reading info of a specific user\n",
        "\n",
        "From the call to:\n",
        "\n",
        "\n",
        "we obtain this kind of JSON result:\n",
        "\n",
        "\n",
        "```\n",
        "        {\n",
        "            \"accreditationStatus\": \"not-applicable\",\n",
        "            \"countryCode\": \"ES\",\n",
        "            \"createdAt\": \"2021-06-15T11:50:08.000Z\",\n",
        "            \"email\": \"miguelschneider@gmail.com\",\n",
        "            \"entityName\": null,\n",
        "            \"externalId\": \"1653786977\",\n",
        "            \"firstName\": \"\",\n",
        "            \"investorType\": \"individual\",\n",
        "            \"kycStatus\": \"none\",\n",
        "            \"labels\": null,\n",
        "            \"lastName\": \"\",\n",
        "            \"name\": \" \",\n",
        "            \"qualificationStatus\": \"not-verified\",\n",
        "            \"registrationSource\": \"securitizeID\",\n",
        "            \"stateCode\": null,\n",
        "            \"updatedAt\": \"2021-06-16T11:35:20.000Z\",\n",
        "            \"walletRegistrationStatus\": null\n",
        "        },\n",
        "```\n",
        "\n",
        "where we can easily identify the user, and it's ***externalId***. In this case,\n",
        "\n",
        "```\n",
        "        {\n",
        "            \"externalId\": \"1653786977\",\n",
        "        },\n",
        "```\n",
        "\n",
        "Let's use it in our next call to Securitizw API, to get far more information about this investor:"
      ]
    },
    {
      "cell_type": "code",
      "metadata": {
        "id": "w7V7EfSCTnb8",
        "colab": {
          "base_uri": "https://localhost:8080/"
        },
        "outputId": "72f025ba-c382-4144-bf3c-1f22315ff222"
      },
      "source": [
        "externalId = '1653786977' #Has to be a String! Be careful\n",
        "response = getInfo(serviceUrl,KeyId,KeySecret,DomainID,'/investors/', externalId)\n",
        "\n",
        "parsed = json.loads(response.content)\n",
        "print(json.dumps(parsed, indent=4, sort_keys=True) )\n",
        "print(parsed[\"email\"]) #And we can easily access all the details."
      ],
      "execution_count": 17,
      "outputs": [
        {
          "output_type": "stream",
          "text": [
            "{\n",
            "    \"additionalInfo\": null,\n",
            "    \"address\": null,\n",
            "    \"birthdate\": null,\n",
            "    \"blockchainId\": null,\n",
            "    \"brokerDealerGroupId\": null,\n",
            "    \"city\": \"Madrid\",\n",
            "    \"cityOfBirth\": null,\n",
            "    \"countryCode\": \"ES\",\n",
            "    \"countryOfBirth\": null,\n",
            "    \"createdAt\": \"2021-06-15T11:50:08.000Z\",\n",
            "    \"custodianId\": null,\n",
            "    \"custodianName\": null,\n",
            "    \"email\": \"miguelschneider@gmail.com\",\n",
            "    \"entityDba\": null,\n",
            "    \"entityName\": null,\n",
            "    \"entityType\": null,\n",
            "    \"externalId\": \"1653786977\",\n",
            "    \"firstName\": \"\",\n",
            "    \"gender\": \"\",\n",
            "    \"identityDocumentNumber\": null,\n",
            "    \"investorType\": \"individual\",\n",
            "    \"is2FaEnabled\": false,\n",
            "    \"isEditable\": true,\n",
            "    \"jsonOpen\": null,\n",
            "    \"jsonPrivate\": null,\n",
            "    \"labels\": [],\n",
            "    \"lastName\": \"\",\n",
            "    \"middleName\": null,\n",
            "    \"name\": \" \",\n",
            "    \"operatorComments\": null,\n",
            "    \"phoneNumber\": null,\n",
            "    \"phonePrefix\": null,\n",
            "    \"securitizeIdProfileId\": \"60c893e44f6df300115edf15\",\n",
            "    \"state\": null,\n",
            "    \"taxCountryCode\": null,\n",
            "    \"taxCountryCode2\": null,\n",
            "    \"taxCountryCode3\": null,\n",
            "    \"taxId\": null,\n",
            "    \"taxId2\": null,\n",
            "    \"taxId3\": null,\n",
            "    \"updatedAt\": \"2021-06-16T11:35:20.000Z\",\n",
            "    \"zipCode\": null\n",
            "}\n",
            "miguelschneider@gmail.com\n"
          ],
          "name": "stdout"
        }
      ]
    },
    {
      "cell_type": "markdown",
      "metadata": {
        "id": "J7aYWeu9WrqF"
      },
      "source": [
        "#Modifying user information. \n",
        "\n",
        "\n",
        "Setting the city to Madrid\n"
      ]
    },
    {
      "cell_type": "code",
      "metadata": {
        "colab": {
          "base_uri": "https://localhost:8080/"
        },
        "id": "v7D6wX-yVS7-",
        "outputId": "f1d22c7a-cba8-4c68-e876-905910c61a30"
      },
      "source": [
        "\n",
        "Command    = '/investors/'\n",
        "ExternalID = '1653786977'\n",
        "\n",
        "\n",
        "\n",
        "response = requests.patch(\n",
        "    serviceUrl + DomainID + Command+ ExternalID,\n",
        "    headers={'Authorization': 'apiKey ' + KeyId + ':'+ KeySecret},\n",
        "    data={'city': 'Madrid'},\n",
        ")\n",
        "\n",
        "if (response.status_code == 200):\n",
        "  print(\"Patched correctly\")\n",
        "  print(\"Now the Inverstor information is the following \")\n",
        "  #url = \"https://public-api.sandbox.securitize.io/v1/domains/6bc6a967-005f-4aa4-8ed8-65abb2e2fc24/investors/1653786977\"\n",
        "  \n",
        "  response = getInfo(serviceUrl,KeyId,KeySecret,DomainID, \"/investors/\",ExternalID)\n",
        "  print (response)\n",
        "  parsed = json.loads(response.content)\n",
        "  print(json.dumps(parsed, indent=4, sort_keys=True) )\n",
        "\n"
      ],
      "execution_count": 21,
      "outputs": [
        {
          "output_type": "stream",
          "text": [
            "Patched correctly\n",
            "Now the Inverstor information is the following \n",
            "<Response [200]>\n",
            "{\n",
            "    \"additionalInfo\": null,\n",
            "    \"address\": null,\n",
            "    \"birthdate\": null,\n",
            "    \"blockchainId\": null,\n",
            "    \"brokerDealerGroupId\": null,\n",
            "    \"city\": \"Madrid\",\n",
            "    \"cityOfBirth\": null,\n",
            "    \"countryCode\": \"ES\",\n",
            "    \"countryOfBirth\": null,\n",
            "    \"createdAt\": \"2021-06-15T11:50:08.000Z\",\n",
            "    \"custodianId\": null,\n",
            "    \"custodianName\": null,\n",
            "    \"email\": \"miguelschneider@gmail.com\",\n",
            "    \"entityDba\": null,\n",
            "    \"entityName\": null,\n",
            "    \"entityType\": null,\n",
            "    \"externalId\": \"1653786977\",\n",
            "    \"firstName\": \"\",\n",
            "    \"gender\": \"\",\n",
            "    \"identityDocumentNumber\": null,\n",
            "    \"investorType\": \"individual\",\n",
            "    \"is2FaEnabled\": false,\n",
            "    \"isEditable\": true,\n",
            "    \"jsonOpen\": null,\n",
            "    \"jsonPrivate\": null,\n",
            "    \"labels\": [],\n",
            "    \"lastName\": \"\",\n",
            "    \"middleName\": null,\n",
            "    \"name\": \" \",\n",
            "    \"operatorComments\": null,\n",
            "    \"phoneNumber\": null,\n",
            "    \"phonePrefix\": null,\n",
            "    \"securitizeIdProfileId\": \"60c893e44f6df300115edf15\",\n",
            "    \"state\": null,\n",
            "    \"taxCountryCode\": null,\n",
            "    \"taxCountryCode2\": null,\n",
            "    \"taxCountryCode3\": null,\n",
            "    \"taxId\": null,\n",
            "    \"taxId2\": null,\n",
            "    \"taxId3\": null,\n",
            "    \"updatedAt\": \"2021-06-16T17:51:04.000Z\",\n",
            "    \"zipCode\": null\n",
            "}\n"
          ],
          "name": "stdout"
        }
      ]
    }
  ]
}